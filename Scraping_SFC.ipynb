{
 "cells": [
  {
   "cell_type": "markdown",
   "metadata": {},
   "source": [
    "# Web scraping SFC enforcement News"
   ]
  },
  {
   "cell_type": "code",
   "execution_count": 1,
   "metadata": {},
   "outputs": [],
   "source": [
    "import pandas as pd\n",
    "import requests\n",
    "from bs4 import BeautifulSoup\n",
    "from selenium import webdriver\n",
    "import numpy as np\n",
    "\n",
    "URL = 'https://apps.sfc.hk/edistributionWeb/gateway/EN/news-and-announcements/news/enforcement-news/'\n",
    "\n",
    "page = requests.get(URL)\n",
    "\n",
    "soup = BeautifulSoup(page.content,'html.parser')\n",
    "\n",
    "results = soup.find('div', class_= lambda text:'enforcement-news-table'.lower())\n",
    "\n",
    "path = r'F:\\\\AI_ML\\\\Software\\\\chromedriver_win32\\\\Chromedriver'\n",
    "\n",
    "driver = webdriver.Chrome(executable_path = path)\n",
    "\n",
    "driver.get('https://apps.sfc.hk/edistributionWeb/gateway/EN/news-and-announcements/news/enforcement-news/')"
   ]
  },
  {
   "cell_type": "code",
   "execution_count": 2,
   "metadata": {},
   "outputs": [
    {
     "data": {
      "text/html": [
       "<div>\n",
       "<style scoped>\n",
       "    .dataframe tbody tr th:only-of-type {\n",
       "        vertical-align: middle;\n",
       "    }\n",
       "\n",
       "    .dataframe tbody tr th {\n",
       "        vertical-align: top;\n",
       "    }\n",
       "\n",
       "    .dataframe thead th {\n",
       "        text-align: right;\n",
       "    }\n",
       "</style>\n",
       "<table border=\"1\" class=\"dataframe\">\n",
       "  <thead>\n",
       "    <tr style=\"text-align: right;\">\n",
       "      <th></th>\n",
       "      <th>Date</th>\n",
       "      <th>Company/Name</th>\n",
       "      <th>Action</th>\n",
       "    </tr>\n",
       "  </thead>\n",
       "  <tbody>\n",
       "    <tr>\n",
       "      <td>0</td>\n",
       "      <td>17 Dec 2020</td>\n",
       "      <td>CHOW CHIU CHI</td>\n",
       "      <td>Company secretary convicted of insider dealing</td>\n",
       "    </tr>\n",
       "    <tr>\n",
       "      <td>1</td>\n",
       "      <td>14 Dec 2020</td>\n",
       "      <td>LI Yik Shuen</td>\n",
       "      <td>Market Misconduct Tribunal finds Li Yik Shuen ...</td>\n",
       "    </tr>\n",
       "    <tr>\n",
       "      <td>2</td>\n",
       "      <td>10 Dec 2020</td>\n",
       "      <td>CHENG Chak Ngok</td>\n",
       "      <td>Market Misconduct Tribunal finds insider deali...</td>\n",
       "    </tr>\n",
       "    <tr>\n",
       "      <td>3</td>\n",
       "      <td>30 Nov 2020</td>\n",
       "      <td>DAI Haidong\\nNew Ray Medicine International Ho...</td>\n",
       "      <td>SFC commences legal proceedings against New Ra...</td>\n",
       "    </tr>\n",
       "    <tr>\n",
       "      <td>4</td>\n",
       "      <td>25 Nov 2020</td>\n",
       "      <td>PANG Hon Pan</td>\n",
       "      <td>SFC bans Pang Hon Pan for 21 months</td>\n",
       "    </tr>\n",
       "  </tbody>\n",
       "</table>\n",
       "</div>"
      ],
      "text/plain": [
       "          Date                                       Company/Name  \\\n",
       "0  17 Dec 2020                                      CHOW CHIU CHI   \n",
       "1  14 Dec 2020                                       LI Yik Shuen   \n",
       "2  10 Dec 2020                                    CHENG Chak Ngok   \n",
       "3  30 Nov 2020  DAI Haidong\\nNew Ray Medicine International Ho...   \n",
       "4  25 Nov 2020                                       PANG Hon Pan   \n",
       "\n",
       "                                              Action  \n",
       "0     Company secretary convicted of insider dealing  \n",
       "1  Market Misconduct Tribunal finds Li Yik Shuen ...  \n",
       "2  Market Misconduct Tribunal finds insider deali...  \n",
       "3  SFC commences legal proceedings against New Ra...  \n",
       "4                SFC bans Pang Hon Pan for 21 months  "
      ]
     },
     "execution_count": 2,
     "metadata": {},
     "output_type": "execute_result"
    }
   ],
   "source": [
    "element = driver.find_elements_by_id('root')\n",
    "\n",
    "datatable = []\n",
    "theads = []\n",
    "\n",
    "for elm in element:\n",
    "    #returns table list\n",
    "    tablelist = elm.find_elements_by_tag_name(\"table\")\n",
    "    for table in tablelist:\n",
    "        #returns thead list\n",
    "        thlist = table.find_elements_by_tag_name(\"th\")\n",
    "        for th in thlist:\n",
    "            #returns sub element list anchor list\n",
    "            aas = th.find_elements_by_tag_name(\"a\")\n",
    "            for anc in aas:\n",
    "                #anchor text property extracted\n",
    "                thead = anc.get_property(\"text\")\n",
    "                theads.append(thead)\n",
    "        \n",
    "        #commented to add to the df columns\n",
    "        #datatable.append(theads)\n",
    "        \n",
    "        #print('------data----')\n",
    "        #getting tbody element not a list element method is changed\n",
    "        tbodys = table.find_elements_by_tag_name(\"tbody\")\n",
    "        #second tbody is holding data trs\n",
    "        trs = tbodys[1].find_elements_by_tag_name(\"tr\")\n",
    "        for tr in trs:\n",
    "            data=[]\n",
    "            tds = tr.find_elements_by_tag_name(\"td\")\n",
    "            for td in tds:\n",
    "                value = td.get_property(\"innerText\")\n",
    "                data.append(value)\n",
    "            datatable.append(data)\n",
    "        #print(tbody)\n",
    "        \n",
    "#to dataframe\n",
    "df = pd.DataFrame(datatable)\n",
    "#setting columns\n",
    "df.columns = theads\n",
    "\n",
    "df.head()"
   ]
  },
  {
   "cell_type": "markdown",
   "metadata": {},
   "source": [
    "(c) SVV"
   ]
  },
  {
   "cell_type": "code",
   "execution_count": null,
   "metadata": {},
   "outputs": [],
   "source": []
  }
 ],
 "metadata": {
  "kernelspec": {
   "display_name": "Python 3",
   "language": "python",
   "name": "python3"
  },
  "language_info": {
   "codemirror_mode": {
    "name": "ipython",
    "version": 3
   },
   "file_extension": ".py",
   "mimetype": "text/x-python",
   "name": "python",
   "nbconvert_exporter": "python",
   "pygments_lexer": "ipython3",
   "version": "3.7.4"
  }
 },
 "nbformat": 4,
 "nbformat_minor": 2
}
